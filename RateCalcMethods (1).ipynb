{
 "cells": [
  {
   "cell_type": "code",
   "execution_count": null,
   "id": "41a19d2d",
   "metadata": {},
   "outputs": [],
   "source": [
    "#Importing  relevant modules for later as well as specifying directory\n",
    "import astropy\n",
    "import pandas as pd\n",
    "import numpy as np\n",
    "import matplotlib as plt\n",
    "from matplotlib import figure\n",
    "import matplotlib as plt\n",
    "import os\n",
    "import photutils\n",
    "import astroplan\n",
    "from astropy.io import ascii\n",
    "\n",
    "# Set up matplotlib\n",
    "%matplotlib inline"
   ]
  },
  {
   "cell_type": "markdown",
   "id": "d35789b6",
   "metadata": {},
   "source": [
    "Below shows a bootstrapping technique to produce 95% upper and lower confidence intervals associated with a supernovae rate density estimation. Df refers to a pandas dataframe which contains the required values.The dataset should be taken from the BTS as a csv which is later turned into a dataframe so will contain the required headers and values such as peakabs which refers to the peak absolute magnitude a supernova was observed to have. T refers to the time over which the survey was taken,for example if the sample had supernovae that peaked bewteen 200 to 1500 days then this would yield a T = 3.56 years. n refers to a range of values of absolute magnitudes based on what was found within a dataset.\n",
    "\n",
    "\n",
    "\n"
   ]
  },
  {
   "cell_type": "code",
   "execution_count": null,
   "id": "e0d2be4f",
   "metadata": {},
   "outputs": [],
   "source": [
    "Df = pd.read_csv(\"\")"
   ]
  },
  {
   "cell_type": "code",
   "execution_count": null,
   "id": "d01714b8",
   "metadata": {},
   "outputs": [],
   "source": [
    "def bootstrap(n,Df,T):\n",
    "    collective_cumulative_rates = []\n",
    "    for i in range(0,4000):\n",
    "        resampled_data = resample(Df,n_samples = len(Df) ,replace = True, stratify = None , random_state = random.randint(1,100))\n",
    "        sliced_data = resampled_data.drop(resampled_data[resampled_data.peakabs>n].index) \n",
    "        #Dataset now left with data cut off  by a particular apparent magnitude \n",
    "        cumulative_rate = np.sum(sliced_data.rind)/T # Rate formula\n",
    "        collective_cumulative_rates.append(cumulative_rate) #All 4000 cumulative rates calculated from bootstrap as a single array\n",
    "    conf_int = np.percentile(collective_cumulative_rates,[2.5,97.5]) # 95% Upper and Lower confidence intervals\n",
    "    print(conf_int)\n",
    "    \n",
    "# for n in np.arange(-16.5,-20.6,-0.005):       <-------- example implentation, ensures the dataset is cut by each abs mag \n",
    "#    bootstrap_Ia(n,18.5)"
   ]
  },
  {
   "cell_type": "code",
   "execution_count": null,
   "id": "b99d68e9",
   "metadata": {},
   "outputs": [],
   "source": [
    "def Rind_PlotIa(Df,mlim,T,f_rec,f_ext,f_cl,f_sky): #Dataframe,limiting apparent Magnitude,Survey Time,Loss Factors\n",
    "    ######################################### CONSTANTS/APPLICATIONS\n",
    "   \n",
    "    \n",
    "    Df[\"peakabs\"] = pd.to_numeric(Df[\"peakabs\"], downcast=\"float\")\n",
    "    f = f_rec*f_ext*f_cl*f_sky\n",
    "    Mag1 = np.arange(-16.5,-20.6,-0.005) # Absolute Magnitude range\n",
    "    \n",
    "    \n",
    "    ######################################### 1ST DATAFRAME\n",
    "    muA = mlim - Df.peakabs #Essentially mu in the distance modulus formula (m-M)\n",
    "    mu2A = 0.2*(muA+5-Df.A_V) \n",
    "    dA= pow(10,mu2A) #Distance modulus\n",
    "    dGpcA = dA*(1E-9) #Conversion Parsec to GigaParsec\n",
    "    VolA = (4/3)*np.pi*pow(dGpcA,3) #Volume \n",
    "    IVA = 1/VolA # Invese of Volume\n",
    "    RindA = IVA*(1/f) #Individual Rate\n",
    "    Df[\"RindA\"] = RindA #Adding these individual Rates to Dataframe\n",
    "    CumSumA = [] #Cumulative Rates\n",
    "    for n in Mag1: \n",
    "        yA = Df.drop(Df[Df.peakabs>n].index) #Cutting the dataframe by absolute magnitude\n",
    "        bA = np.sum(yA.RindA)/T #Rate Formula\n",
    "        CumSumA.append(bA)       #Cumulative Rates appended\n",
    "    #################################### Bootstrapping\n",
    "    #Add the dataset from the saved upper and lower 95% confidence intervals as a dataframe\n",
    "    #Then use this format to plot:\n",
    "    # plt.pyplot.fill_between(Mag1,Lower95%,Upper95%,label = \"Title\")\n",
    "\n",
    "        \n",
    "    #################################### Poisson Upper Limit \n",
    "    \n",
    "    \n",
    "    \n",
    "    \n",
    "    ####################################      PLOTTING THINGS\n",
    "    plt.rcParams[\"figure.figsize\"] = [10, 10]\n",
    "    plt.rcParams[\"figure.autolayout\"] = True\n",
    "    plt.pyplot.figure()\n",
    "    plt.pyplot.plot(Mag1,CumSumA,color = \"black\",label = \"SN Ia rate\")\n",
    "    plt.pyplot.gca().invert_xaxis()\n",
    "    plt.pyplot.legend(loc = \"lower left\")\n",
    "    manager = plt.pyplot.get_current_fig_manager()\n",
    "    manager.full_screen_toggle()\n",
    "    plt.pyplot.yscale(\"log\")\n",
    "    #plt.pyplot.ylim(0,1664)\n",
    "    plt.pyplot.xlim(-16,-20.7)\n",
    "    plt.pyplot.xlabel(\"Limiting Absolute Magnitude\")\n",
    "    plt.pyplot.ylabel(\"Cumulative Sne Rate ($Gpc^{-3}$ $yr^{-1}$)\")\n",
    "    #plt.pyplot.axhline(y=5.12E+02,color = \"black\")\n",
    "    #plt.pyplot.text(x= -18, y = 1.0E+03,s=r\"SN Ia-91T Rate = $5.12 \\times 10^{2}   \\ Gpc^{-3} yr^{-1}$\")\n",
    "    fig = plt.pyplot.gcf()\n",
    "    fig.set_size_inches(8, 7)\n",
    "    plt.pyplot.show(block = True)\n",
    "    print(\"SN Rate Density is:\",format(max(CumSumA),\".2E\"))"
   ]
  }
 ],
 "metadata": {
  "kernelspec": {
   "display_name": "Python 3 (ipykernel)",
   "language": "python",
   "name": "python3"
  },
  "language_info": {
   "codemirror_mode": {
    "name": "ipython",
    "version": 3
   },
   "file_extension": ".py",
   "mimetype": "text/x-python",
   "name": "python",
   "nbconvert_exporter": "python",
   "pygments_lexer": "ipython3",
   "version": "3.9.12"
  }
 },
 "nbformat": 4,
 "nbformat_minor": 5
}
